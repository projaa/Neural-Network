{
  "nbformat": 4,
  "nbformat_minor": 0,
  "metadata": {
    "colab": {
      "name": "ANN.ipynb",
      "provenance": [],
      "collapsed_sections": [
        "jxNBoaZRrg4y",
        "pPAz1VCtrxcE",
        "Grw4GFDUAb1A",
        "qWiHJ20UEE45",
        "V7HG-OOgjZxR",
        "l9-3YsUDjoa1"
      ]
    },
    "kernelspec": {
      "name": "python3",
      "display_name": "Python 3"
    },
    "language_info": {
      "name": "python"
    },
    "accelerator": "GPU"
  },
  "cells": [
    {
      "cell_type": "code",
      "metadata": {
        "id": "Adc3WtwqQZwV",
        "colab": {
          "base_uri": "https://localhost:8080/"
        },
        "outputId": "00e8cc49-798b-4e2c-99b9-6197eff56754"
      },
      "source": [
        "from google.colab import drive\n",
        "drive.mount('/content/drive')"
      ],
      "execution_count": 1,
      "outputs": [
        {
          "output_type": "stream",
          "name": "stdout",
          "text": [
            "Mounted at /content/drive\n"
          ]
        }
      ]
    },
    {
      "cell_type": "code",
      "metadata": {
        "id": "ZoFTOLVNO6ND"
      },
      "source": [
        "import numpy as np\n",
        "import pandas as pd\n",
        "from sklearn.model_selection import train_test_split"
      ],
      "execution_count": 2,
      "outputs": []
    },
    {
      "cell_type": "code",
      "metadata": {
        "id": "zkrX8BUy2F7A"
      },
      "source": [
        "#Load the dataset\n",
        "dataset = pd.read_csv('/content/drive/MyDrive/Colab Notebooks/ML Lab 4111/diabetes.csv')"
      ],
      "execution_count": 3,
      "outputs": []
    },
    {
      "cell_type": "code",
      "metadata": {
        "id": "Cwc50Ho12IsJ"
      },
      "source": [
        "#Features Selection\n",
        "X = dataset #include all columns\n",
        "Y = dataset[['Outcome']] #target variable; only Outcome column\n",
        "X = X.drop(['Outcome'], axis = 1) #remove Outcome from X, containing only Pregnancies, Glucose, BloodPressure, SkinThickness, Insulin, BMI, DiabetesPedigreeFunction, Age"
      ],
      "execution_count": 4,
      "outputs": []
    },
    {
      "cell_type": "code",
      "metadata": {
        "id": "mE-eVUVf2JsV"
      },
      "source": [
        "#Split the dataset into training-test set\n",
        "X_train, X_test, y_train, y_test = train_test_split(X,Y, test_size = 0.2, random_state = 42)"
      ],
      "execution_count": 5,
      "outputs": []
    },
    {
      "cell_type": "code",
      "metadata": {
        "colab": {
          "base_uri": "https://localhost:8080/"
        },
        "id": "P7nkPqLQPtWS",
        "outputId": "f5431364-12ef-4449-9b70-593506fe14a4"
      },
      "source": [
        "#Check shape\n",
        "print(X.shape)\n",
        "print(X_train.shape)\n",
        "print(y_train.shape)\n",
        "print(X_test.shape)\n",
        "print(y_test.shape)"
      ],
      "execution_count": 6,
      "outputs": [
        {
          "output_type": "stream",
          "name": "stdout",
          "text": [
            "(768, 8)\n",
            "(614, 8)\n",
            "(614, 1)\n",
            "(154, 8)\n",
            "(154, 1)\n"
          ]
        }
      ]
    },
    {
      "cell_type": "markdown",
      "metadata": {
        "id": "jxNBoaZRrg4y"
      },
      "source": [
        "## 2 Hidden layers Neural Network Initialization"
      ]
    },
    {
      "cell_type": "code",
      "metadata": {
        "id": "-jSaTAGhPKLl"
      },
      "source": [
        "#Initialization of Parameters\n",
        "def parameter_initialization(nx,nh,ny):\n",
        "\n",
        "  #Random initialization of weights matrix of shape layers_dimension[l] and biases vector of shape layers-dimension[l-1]\n",
        "  W1 = np.random.randn(nh, nx)*0.01\n",
        "  b1 = np.zeros((nh,1))\n",
        "  W2 = np.random.randn(nh, nh)*0.01\n",
        "  b2 = np.zeros((nh,1))\n",
        "  W3 = np.random.randn(ny, nh)*0.01\n",
        "  b3 = np.zeros((ny,1))\n",
        "\n",
        "  return {\"W1\": W1, \"b1\": b1, \"W2\": W2, \"b2\": b2, \"W3\": W3, \"b3\": b3}"
      ],
      "execution_count": 7,
      "outputs": []
    },
    {
      "cell_type": "markdown",
      "metadata": {
        "id": "pPAz1VCtrxcE"
      },
      "source": [
        "## Forward Propagation"
      ]
    },
    {
      "cell_type": "code",
      "metadata": {
        "id": "nlJgNWdMqlSU"
      },
      "source": [
        "#Activation function - sigmoid\n",
        "def sigmoid(z):\n",
        "    s = 1/(1+np.exp(-z))\n",
        "    return s\n",
        "\n",
        "#Forward Propagation \n",
        "def forward_propagation(X, parameters):\n",
        "  \n",
        "    #Formul z = wx + b; A = sigmoid(z)\n",
        "    Z1 = np.dot(parameters['W1'], X) + parameters['b1']\n",
        "    A1 = sigmoid(Z1)\n",
        "\n",
        "    Z2 = np.dot(parameters['W2'], A1) + parameters['b2']\n",
        "    A2 = sigmoid(Z2)\n",
        "    \n",
        "    Z3 = np.dot(parameters['W3'], A2) + parameters['b3']\n",
        "    A3 = sigmoid(Z3)\n",
        "\n",
        "    return {\"Z1\": Z1, \"A1\": A1, \"Z2\": Z2, \"A2\": A2, \"Z3\": Z3, \"A3\": A3} "
      ],
      "execution_count": 8,
      "outputs": []
    },
    {
      "cell_type": "markdown",
      "metadata": {
        "id": "Grw4GFDUAb1A"
      },
      "source": [
        "## Cost Calculation"
      ]
    },
    {
      "cell_type": "code",
      "metadata": {
        "id": "4NaSapgXAa_O"
      },
      "source": [
        "def cost_estimation(true, predicted):\n",
        "  #formula of cost = -(∑(ylogy^ + (1-y)log(1-y^)))/m\n",
        "  log_probs = np.multiply(np.log(predicted), true) + np.multiply(np.log(1 - predicted), (1 - true))\n",
        "  total_cost = -np.sum(log_probs)/true.shape[1]\n",
        "\n",
        "  return np.squeeze(total_cost)"
      ],
      "execution_count": 9,
      "outputs": []
    },
    {
      "cell_type": "markdown",
      "metadata": {
        "id": "qWiHJ20UEE45"
      },
      "source": [
        "## Backward Propagation"
      ]
    },
    {
      "cell_type": "code",
      "metadata": {
        "id": "HK0yM2NyqkFr"
      },
      "source": [
        "#Backward Propagation function\n",
        "def backward_propagation(parameters, activations, X, Y):\n",
        "  '''\n",
        "  dwl = dzl*(A[l-1].T) /m\n",
        "  dbl = sum(dzli)/m\n",
        "  dzl = dAl*g'(zl)\n",
        "  '''\n",
        "  m = X.shape[1]\n",
        "\n",
        "  #Output layer\n",
        "  dZ3 = activations['A3'] - Y                  #Computed the error derivative \n",
        "  dW3 = np.dot(dZ3, activations['A2'].T) / m   #Computed the weight derivative \n",
        "  db3 = np.sum(dZ3, axis=1, keepdims = True)/m #Computed the bias derivative - keepdims = True to keep the input-output dimensions same\n",
        "  \n",
        "  #Hidden layer 2\n",
        "  dZ2 = np.dot(parameters['W3'].T, dZ3)*(activations['A2']-np.power(activations['A2'], 2))\n",
        "  dW2 = np.dot(dZ2, activations['A1'].T)/m\n",
        "  db2 = np.sum(dZ2, axis=1,keepdims=True)/m\n",
        "  \n",
        "  #Hidden layer 1\n",
        "  dZ1 = np.dot(parameters['W2'].T, dZ2)*(activations['A1']-np.power(activations['A1'], 2))\n",
        "  dW1 = np.dot(dZ1, X.T)/m\n",
        "  db1 = np.sum(dZ1, axis=1,keepdims=True)/m\n",
        "  \n",
        "  return {\"dW1\": dW1, \"db1\": db1, \"dW2\": dW2, \"db2\": db2, \"dW3\": dW3, \"db3\": db3}\n",
        "\n",
        "def parameters_update(parameters, gradients, alpha = 0.01):\n",
        "  #parameters update rules w = w - learning_rate * dw ; b = b - learning_rate * db\n",
        "  parameters['W1'] = parameters['W1'] - alpha * gradients['dW1']\n",
        "  parameters['b1'] = parameters['b1'] - alpha * gradients['db1']\n",
        "  parameters['W2'] = parameters['W2'] - alpha * gradients['dW2']\n",
        "  parameters['b2'] = parameters['b2'] - alpha * gradients['db2']\n",
        "  parameters['W3'] = parameters['W3'] - alpha * gradients['dW3']\n",
        "  parameters['b3'] = parameters['b3'] - alpha * gradients['db3']\n",
        "\n",
        "  return parameters"
      ],
      "execution_count": 10,
      "outputs": []
    },
    {
      "cell_type": "markdown",
      "source": [
        "# Neural Network Model"
      ],
      "metadata": {
        "id": "V7HG-OOgjZxR"
      }
    },
    {
      "cell_type": "code",
      "metadata": {
        "id": "AygnMfftFwz7"
      },
      "source": [
        "def neural_network_model(X,Y, n_h = 10, epochs = 100):\n",
        "  n_x = X.shape[0]     #Number of nodes/neurons in input layer\n",
        "  n_y = Y.shape[0]     #Number of nodes/neurons in output layer\n",
        "\n",
        "  parameters = parameter_initialization(n_x, n_h, n_y)\n",
        "  for i in range(0,epochs):\n",
        "    results = forward_propagation(X, parameters)\n",
        "    errors = cost_estimation(Y, results['A3'])\n",
        "    grads = backward_propagation(parameters, results, X,Y)\n",
        "    params = parameters_update(parameters, grads)\n",
        "\n",
        "  return parameters"
      ],
      "execution_count": 11,
      "outputs": []
    },
    {
      "cell_type": "code",
      "metadata": {
        "id": "8OBgam4KonLV"
      },
      "source": [
        "x = X_train.T   #(614,8) -> (8,614)\n",
        "y = y_train.values.reshape(1, y_train.size) #(614,1) -> (1,614)\n",
        "model = neural_network_model(x,y, n_h = 100, epochs = 100)"
      ],
      "execution_count": 12,
      "outputs": []
    },
    {
      "cell_type": "markdown",
      "source": [
        "# Perforane Evaluation"
      ],
      "metadata": {
        "id": "l9-3YsUDjoa1"
      }
    },
    {
      "cell_type": "code",
      "metadata": {
        "id": "mYB458Lj3u0P",
        "colab": {
          "base_uri": "https://localhost:8080/"
        },
        "outputId": "05cd4df5-c442-45e9-a65f-8b38c8afc1e4"
      },
      "source": [
        "def predict(parameters, X):\n",
        "    results = forward_propagation(X, parameters)\n",
        "    #print (results['A3'][0])\n",
        "    predictions = np.around(results['A3'])    \n",
        "    return predictions\n",
        "\n",
        "predictions = predict(model, x)\n",
        "print ('Accuracy: %d' % float((np.dot(y,predictions.T) + np.dot(1-y,1-predictions.T))/float(y.size)*100) + '%')"
      ],
      "execution_count": 13,
      "outputs": [
        {
          "output_type": "stream",
          "name": "stdout",
          "text": [
            "Accuracy: 65%\n"
          ]
        }
      ]
    }
  ]
}